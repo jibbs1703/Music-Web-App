{
 "cells": [
  {
   "cell_type": "code",
   "execution_count": 1,
   "id": "20bcc638-4fbb-4435-83f6-e33d7e9b11b6",
   "metadata": {},
   "outputs": [],
   "source": [
    "# Import Necessary Libraries\n",
    "from dotenv import load_dotenv\n",
    "import os\n",
    "import base64\n",
    "from requests import post, get\n",
    "import json\n",
    "from prettyprinter import pprint as pp\n",
    "\n",
    "import pandas as pd"
   ]
  },
  {
   "cell_type": "code",
   "execution_count": 2,
   "id": "bf2f9be7-c3c0-4f3a-95d7-7139ae53b0cc",
   "metadata": {},
   "outputs": [],
   "source": [
    "# Access Client ID and Secret to Access API in Hidden .env File\n",
    "load_dotenv()\n",
    "client_id = os.getenv(\"CLIENT_ID\")\n",
    "secret_id = os.getenv(\"CLIENT_SECRET\")"
   ]
  },
  {
   "cell_type": "code",
   "execution_count": 3,
   "id": "0c64206a-ff87-4449-be87-7c9f059c9d4d",
   "metadata": {},
   "outputs": [],
   "source": [
    "def extract_token(url = \"https://accounts.spotify.com/\"):\n",
    "    '''\n",
    "    Insert Docstring\n",
    "    '''\n",
    "    client_id = os.getenv(\"CLIENT_ID\")\n",
    "    secret_id = os.getenv(\"CLIENT_SECRET\")\n",
    "    auth_string = f\"{client_id}:{secret_id}\"\n",
    "    auth_bytes = auth_string.encode(\"utf-8\")\n",
    "    auth_base64 = str(base64.b64encode(auth_bytes), \"utf-8\")\n",
    "    \n",
    "    url = f\"{url}api/token\"\n",
    "    headers = {\"Authorization\": \"Basic \" + auth_base64, \"Content-Type\": \"application/x-www-form-urlencoded\"}\n",
    "    data = {\"grant_type\": \"client_credentials\"}\n",
    "    result = post(url, headers=headers, data=data)\n",
    "    json_result = json.loads(result.content)\n",
    "    print(json_result)\n",
    "    token = json_result[\"access_token\"]\n",
    "        \n",
    "    return token"
   ]
  },
  {
   "cell_type": "code",
   "execution_count": 4,
   "id": "73cf50ee-0b94-4255-9a3a-d69603e3e3dd",
   "metadata": {},
   "outputs": [],
   "source": [
    "# Extracting Artist ID Using Token\n",
    "def artist_id_search(artist_name, type, limit = 20, url = \"https://api.spotify.com/\"): \n",
    "    '''\n",
    "    Insert Docstring\n",
    "    '''\n",
    "    url = f\"{url}v1/search\"\n",
    "    query = f\"?q={artist_name}&type={type}&limit={limit}\"\n",
    "    query_url = f\"{url}{query}\"\n",
    "    token = extract_token()\n",
    "    headers = {\"Authorization\": f\"Bearer {token}\"}\n",
    "    result = get(query_url, headers= headers)\n",
    "    json_result = json.loads(result.content)['artists']['items']\n",
    "\n",
    "    if len(json_result) == 0:\n",
    "       print(f\"No artist with this name {artist_name} exists. Please check name and try again\")\n",
    "       return None\n",
    "    return json_result"
   ]
  },
  {
   "cell_type": "code",
   "execution_count": 5,
   "id": "27e9af47-b310-4a75-96bd-d62f530dcdc4",
   "metadata": {},
   "outputs": [
    {
     "name": "stdout",
     "output_type": "stream",
     "text": [
      "{'access_token': 'BQDMaG8PFRhRx4DTKTnwRRUWg3vYMmyhTmnqCu80LimgszHSk9HMd6ZjvboallolSQT5eTJFNKoCX6x9jUCNnN2YVhKX36VgBdqXyff2TPUBHI2udkI', 'token_type': 'Bearer', 'expires_in': 3600}\n"
     ]
    }
   ],
   "source": [
    "api = artist_id_search(\"fela\",\"artist\") "
   ]
  },
  {
   "cell_type": "code",
   "execution_count": 6,
   "id": "f7476811-1cfb-46c3-b20a-0ccecfe5b8d0",
   "metadata": {},
   "outputs": [],
   "source": [
    "href = []\n",
    "ids = []\n",
    "spotify = []\n",
    "genre = []\n",
    "total = []\n",
    "name = []\n",
    "popularity = []\n",
    "types = []\n",
    "\n",
    "columns = {}\n",
    "\n",
    "def flatten(data, append=None):\n",
    "    if type(data) == dict:\n",
    "        \n",
    "        for key in data.keys():\n",
    "            if type(data[key]) in [str, int, None]:\n",
    "                if key == 'href':\n",
    "                    href.append(data[key])\n",
    "                    columns[key] = href\n",
    "                elif key == 'id':\n",
    "                    ids.append(data[key])\n",
    "                    columns[key] = ids\n",
    "                elif key == 'name':\n",
    "                    name.append(data[key])\n",
    "                    columns[key] = name\n",
    "                elif key == 'type':\n",
    "                    types.append(data[key])\n",
    "                    columns[key] = types                    \n",
    "                elif key == 'popularity':\n",
    "                    popularity.append(data[key])\n",
    "                    columns[key] = popularity \n",
    "                elif key == 'spotify':\n",
    "                    spotify.append(data[key])\n",
    "                    columns[key] = spotify   \n",
    "                elif key == 'total':\n",
    "                    total.append(data[key])\n",
    "                    columns[key] = total                    \n",
    "            \n",
    "            elif type(data[key]) == list:\n",
    "                if sum([True for k in data[key] if type(k) == str]) == len(data[key]):\n",
    "                    if key == 'genres':\n",
    "                        genre.append(data[key])\n",
    "                        columns[key] = genre\n",
    "            else: \n",
    "                flatten(data[key])\n",
    "   \n",
    "    elif type(data) == list:\n",
    "        for item in data:\n",
    "            flatten(item)\n",
    "\n",
    "    else:\n",
    "        pass #print(f\"{data} cannot be transformed at this time\")\n",
    "\n",
    "    return columns"
   ]
  }
 ],
 "metadata": {
  "kernelspec": {
   "display_name": "Python 3 (ipykernel)",
   "language": "python",
   "name": "python3"
  },
  "language_info": {
   "codemirror_mode": {
    "name": "ipython",
    "version": 3
   },
   "file_extension": ".py",
   "mimetype": "text/x-python",
   "name": "python",
   "nbconvert_exporter": "python",
   "pygments_lexer": "ipython3",
   "version": "3.11.8"
  }
 },
 "nbformat": 4,
 "nbformat_minor": 5
}
