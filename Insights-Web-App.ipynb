{
 "cells": [
  {
   "cell_type": "code",
   "execution_count": 113,
   "id": "20bcc638-4fbb-4435-83f6-e33d7e9b11b6",
   "metadata": {},
   "outputs": [],
   "source": [
    "# Import Necessary Libraries\n",
    "from dotenv import load_dotenv\n",
    "import os\n",
    "import base64\n",
    "from requests import post, get\n",
    "import json\n",
    "from prettyprinter import pprint as pp"
   ]
  },
  {
   "cell_type": "code",
   "execution_count": 4,
   "id": "bf2f9be7-c3c0-4f3a-95d7-7139ae53b0cc",
   "metadata": {},
   "outputs": [],
   "source": [
    "# Access Client ID and Secret to Access API in Hidden .env File\n",
    "load_dotenv()\n",
    "client_id = os.getenv(\"CLIENT_ID\")\n",
    "secret_id = os.getenv(\"CLIENT_SECRET\")"
   ]
  },
  {
   "cell_type": "code",
   "execution_count": 176,
   "id": "0c64206a-ff87-4449-be87-7c9f059c9d4d",
   "metadata": {},
   "outputs": [],
   "source": [
    "def extract_token():\n",
    "    '''\n",
    "    Insert Docstring\n",
    "    '''\n",
    "    client_id = os.getenv(\"CLIENT_ID\")\n",
    "    secret_id = os.getenv(\"CLIENT_SECRET\")\n",
    "    auth_string = f\"{client_id}:{secret_id}\"\n",
    "    auth_bytes = auth_string.encode(\"utf-8\")\n",
    "    auth_base64 = str(base64.b64encode(auth_bytes), \"utf-8\")\n",
    "    \n",
    "    url = \"https://accounts.spotify.com/api/token\"\n",
    "    headers = {\"Authorization\": \"Basic \" + auth_base64, \"Content-Type\": \"application/x-www-form-urlencoded\"}\n",
    "    data = {\"grant_type\": \"client_credentials\"}\n",
    "    result = post(url, headers=headers, data=data)\n",
    "    json_result = json.loads(result.content)\n",
    "    print(json_result)\n",
    "    token = json_result[\"access_token\"]\n",
    "    \n",
    "    return token"
   ]
  },
  {
   "cell_type": "code",
   "execution_count": 177,
   "id": "73cf50ee-0b94-4255-9a3a-d69603e3e3dd",
   "metadata": {},
   "outputs": [],
   "source": [
    "# Extracting Artist ID Using Token\n",
    "def artist_id_search(token, artist_name, type, limit = 20): \n",
    "    '''\n",
    "    Insert Docstring\n",
    "    '''\n",
    "    url = \"https://api.spotify.com/v1/search\"\n",
    "    query = f\"?q={artist_name}&type={type}&limit={limit}\"\n",
    "    query_url = f\"{url}{query}\"\n",
    "    token = extract_token()\n",
    "    headers = {\"Authorization\": f\"Bearer {token}\"}\n",
    "    result = get(query_url, headers= headers)\n",
    "    json_result = json.loads(result.content)['artists'][\"items\"]\n",
    "\n",
    "    if len(json_result) == 0:\n",
    "       print(f\"No artist with this name {artist_name} exists.....\")\n",
    "       return None\n",
    "    return json_result"
   ]
  },
  {
   "cell_type": "code",
   "execution_count": 178,
   "id": "27e9af47-b310-4a75-96bd-d62f530dcdc4",
   "metadata": {},
   "outputs": [
    {
     "name": "stdout",
     "output_type": "stream",
     "text": [
      "{'access_token': 'BQClbacjVmNF7_LeF1NS3hdyBFrDfVWjklJUohiExzCP5JGol2eK6bngSxN2zgSZxJLKOuH7ysuo06emGcwKNyT63KnY_8NS8E4YUPD38uESYAnqNd8', 'token_type': 'Bearer', 'expires_in': 3600}\n"
     ]
    }
   ],
   "source": [
    "json_test = artist_id_search(123,\"Omolewa\",\"artist\",limit=30)"
   ]
  },
  {
   "cell_type": "code",
   "execution_count": 181,
   "id": "acd03354-513d-419f-a0e6-4408b450d482",
   "metadata": {},
   "outputs": [
    {
     "name": "stdout",
     "output_type": "stream",
     "text": [
      "'external_urls'\n",
      "'followers'\n",
      "'genres'\n",
      "'href'\n",
      "'id'\n",
      "'images'\n",
      "'name'\n",
      "'popularity'\n",
      "'type'\n",
      "'uri'\n",
      "'external_urls'\n",
      "'followers'\n",
      "'genres'\n",
      "'href'\n",
      "'id'\n",
      "'images'\n",
      "'name'\n",
      "'popularity'\n",
      "'type'\n",
      "'uri'\n",
      "'external_urls'\n",
      "'followers'\n",
      "'genres'\n",
      "'href'\n",
      "'id'\n",
      "'images'\n",
      "'name'\n",
      "'popularity'\n",
      "'type'\n",
      "'uri'\n",
      "'external_urls'\n",
      "'followers'\n",
      "'genres'\n",
      "'href'\n",
      "'id'\n",
      "'images'\n",
      "'name'\n",
      "'popularity'\n",
      "'type'\n",
      "'uri'\n",
      "'external_urls'\n",
      "'followers'\n",
      "'genres'\n",
      "'href'\n",
      "'id'\n",
      "'images'\n",
      "'name'\n",
      "'popularity'\n",
      "'type'\n",
      "'uri'\n"
     ]
    }
   ],
   "source": [
    "for i in json_test[:5]:\n",
    "    for j in i:\n",
    "        pp(j)"
   ]
  },
  {
   "cell_type": "code",
   "execution_count": 182,
   "id": "85d53761-7896-4d1d-b96a-308b4da74424",
   "metadata": {},
   "outputs": [],
   "source": [
    "import pandas as pd"
   ]
  }
 ],
 "metadata": {
  "kernelspec": {
   "display_name": "Python 3 (ipykernel)",
   "language": "python",
   "name": "python3"
  },
  "language_info": {
   "codemirror_mode": {
    "name": "ipython",
    "version": 3
   },
   "file_extension": ".py",
   "mimetype": "text/x-python",
   "name": "python",
   "nbconvert_exporter": "python",
   "pygments_lexer": "ipython3",
   "version": "3.11.8"
  }
 },
 "nbformat": 4,
 "nbformat_minor": 5
}
